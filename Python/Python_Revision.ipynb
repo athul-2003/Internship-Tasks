{
  "nbformat": 4,
  "nbformat_minor": 0,
  "metadata": {
    "colab": {
      "provenance": []
    },
    "kernelspec": {
      "name": "python3",
      "display_name": "Python 3"
    },
    "language_info": {
      "name": "python"
    }
  },
  "cells": [
    {
      "cell_type": "code",
      "source": [
        "print(\"Hello World\")"
      ],
      "metadata": {
        "colab": {
          "base_uri": "https://localhost:8080/"
        },
        "id": "CpQ_KMT3QTvD",
        "outputId": "f6b27e2e-6721-4892-e8a9-e5b9147ffe84"
      },
      "execution_count": 7,
      "outputs": [
        {
          "output_type": "stream",
          "name": "stdout",
          "text": [
            "Hello World\n"
          ]
        }
      ]
    },
    {
      "cell_type": "code",
      "source": [
        "def greet(name):\n",
        "  return f\"Hello, {name}\"\n",
        "\n",
        "my_name = input(\"Enter your name:\")\n",
        "print(greet(my_name))"
      ],
      "metadata": {
        "colab": {
          "base_uri": "https://localhost:8080/"
        },
        "id": "esJZUcasWznm",
        "outputId": "7c7e4d4a-2fed-4e09-ce54-4643dc207e30"
      },
      "execution_count": 35,
      "outputs": [
        {
          "output_type": "stream",
          "name": "stdout",
          "text": [
            "Enter your name:H Athulkrishnan\n",
            "Hello, H Athulkrishnan\n"
          ]
        }
      ]
    },
    {
      "cell_type": "code",
      "source": [
        "# Variables and types\n",
        "x = 10          # int\n",
        "name = \"Athul\"  # str\n",
        "pi = 3.14       # float\n",
        "is_valid = True # bool\n",
        "\n",
        "print(type(x))\n",
        "print(type(name))\n",
        "print(type(pi))\n",
        "print(type(is_valid))"
      ],
      "metadata": {
        "colab": {
          "base_uri": "https://localhost:8080/"
        },
        "id": "M36ClBmUUYBF",
        "outputId": "726efe13-2f12-4d71-9735-a9665b9d48bd"
      },
      "execution_count": 27,
      "outputs": [
        {
          "output_type": "stream",
          "name": "stdout",
          "text": [
            "<class 'int'>\n",
            "<class 'str'>\n",
            "<class 'float'>\n",
            "<class 'bool'>\n"
          ]
        }
      ]
    },
    {
      "cell_type": "code",
      "source": [
        "s = \"Hello Python\"\n",
        "print(s.upper())\n",
        "print(s.lower())\n",
        "print(s[0])\n",
        "print(s[::-1])\n",
        "lst_str = s.split(\" \")\n",
        "print(lst_str)\n",
        "print(\" \".join(lst_str))"
      ],
      "metadata": {
        "colab": {
          "base_uri": "https://localhost:8080/"
        },
        "id": "7Y97BWGuXSDT",
        "outputId": "3df2a4ec-6dce-4d53-db5d-8c6dc5065fc4"
      },
      "execution_count": 38,
      "outputs": [
        {
          "output_type": "stream",
          "name": "stdout",
          "text": [
            "HELLO PYTHON\n",
            "hello python\n",
            "H\n",
            "nohtyP olleH\n",
            "['Hello', 'Python']\n",
            "Hello Python\n"
          ]
        }
      ]
    },
    {
      "cell_type": "code",
      "source": [
        "# List\n",
        "fruits = [\"apple\", \"banana\"]\n",
        "fruits.append(\"mango\")\n",
        "print(fruits)\n",
        "fruits[0]  # \"apple\"\n",
        "\n",
        "# Tuple\n",
        "coords = (10, 20)\n",
        "print(coords)\n",
        "\n",
        "# Dictionary\n",
        "student = {\"name\": \"Athul\", \"age\": 21}\n",
        "print(student[\"name\"])\n",
        "student[\"Occupation\"] = \"student\"\n",
        "print(student)\n",
        "\n",
        "# Set\n",
        "unique = set([1, 2, 2, 3,4,5,5,6])\n",
        "print(unique)\n"
      ],
      "metadata": {
        "colab": {
          "base_uri": "https://localhost:8080/"
        },
        "id": "it9-RM7KUtci",
        "outputId": "8a7f1a16-e7fd-405a-d3d7-bf43a715aa56"
      },
      "execution_count": 31,
      "outputs": [
        {
          "output_type": "stream",
          "name": "stdout",
          "text": [
            "['apple', 'banana', 'mango']\n",
            "(10, 20)\n",
            "Athul\n",
            "{'name': 'Athul', 'age': 21, 'Occupation': 'student'}\n",
            "{1, 2, 3, 4, 5, 6}\n"
          ]
        }
      ]
    },
    {
      "cell_type": "code",
      "source": [
        "# List Comprehension\n",
        "\n",
        "squares = [x**2 for x in range(1,6)]\n",
        "print(squares)\n",
        "\n",
        "even_lst = [x for x in range(1,11) if x%2==0]\n",
        "print(even_lst)\n",
        "\n",
        "labels = [\"even\" if x % 2 == 0 else \"odd\" for x in range(1, 6)]\n",
        "print(labels)\n"
      ],
      "metadata": {
        "colab": {
          "base_uri": "https://localhost:8080/"
        },
        "id": "9sY1Cxr5X3WP",
        "outputId": "f9be43ee-1552-4af0-8b96-f93a43c0a720"
      },
      "execution_count": 44,
      "outputs": [
        {
          "output_type": "stream",
          "name": "stdout",
          "text": [
            "[1, 4, 9, 16, 25]\n",
            "[2, 4, 6, 8, 10]\n",
            "['odd', 'even', 'odd', 'even', 'odd']\n"
          ]
        }
      ]
    },
    {
      "cell_type": "code",
      "execution_count": 5,
      "metadata": {
        "id": "gRYernwzFuXh"
      },
      "outputs": [],
      "source": [
        "def my_decorator(f):\n",
        "    def wrapper():\n",
        "        print(\"Before\")\n",
        "        f()\n",
        "        print(\"After\")\n",
        "    return wrapper"
      ]
    },
    {
      "cell_type": "code",
      "source": [
        "@my_decorator\n",
        "def say_hello():\n",
        "    print(\"Hello!\")\n",
        "\n",
        "say_hello()\n"
      ],
      "metadata": {
        "colab": {
          "base_uri": "https://localhost:8080/"
        },
        "id": "o7HVGWNOPvW4",
        "outputId": "d19b4b59-be30-414e-ab48-f78aa9c094d1"
      },
      "execution_count": 6,
      "outputs": [
        {
          "output_type": "stream",
          "name": "stdout",
          "text": [
            "Before\n",
            "Hello!\n",
            "After\n"
          ]
        }
      ]
    },
    {
      "cell_type": "code",
      "source": [
        "# def lambdaFunc(x):\n",
        "#   double = lambda x: x * 2\n",
        "#   return double\n",
        "\n",
        "# x=2\n",
        "# print(lambdaFunc(x)(x))\n",
        "\n",
        "\n",
        "double = lambda x: (x*2 + x*2)\n",
        "print(double(2))\n"
      ],
      "metadata": {
        "colab": {
          "base_uri": "https://localhost:8080/"
        },
        "id": "LbZanK7aQYlK",
        "outputId": "814e9a6d-a4b7-40d6-9438-f569eee09e92"
      },
      "execution_count": 12,
      "outputs": [
        {
          "output_type": "stream",
          "name": "stdout",
          "text": [
            "8\n"
          ]
        }
      ]
    },
    {
      "cell_type": "code",
      "source": [
        "# Palindrome string\n",
        "\n",
        "def isPal(str1):\n",
        "  start=0\n",
        "  end=len(str1)-1\n",
        "\n",
        "  while start <= end:\n",
        "    if str1[start] != str1[end]:\n",
        "      return \"Not Palindrome\"\n",
        "\n",
        "    start+=1\n",
        "    end-=1\n",
        "\n",
        "  return \"Palindrome\"\n",
        "\n",
        "\n",
        "my_str = 'malayalam'\n",
        "print(isPal(my_str))"
      ],
      "metadata": {
        "colab": {
          "base_uri": "https://localhost:8080/"
        },
        "id": "Zp0guLbPRlCm",
        "outputId": "234b7d71-cb5d-483f-a8a2-0f60f0a707d0"
      },
      "execution_count": 15,
      "outputs": [
        {
          "output_type": "stream",
          "name": "stdout",
          "text": [
            "Palindrome\n"
          ]
        }
      ]
    },
    {
      "cell_type": "code",
      "source": [
        "# Palindrome Number\n",
        "\n",
        "def isPalNum(num):\n",
        "  org_num = num\n",
        "  rev = 0\n",
        "\n",
        "  while num > 0 :\n",
        "    ld = num % 10\n",
        "    rev = rev*10 + ld\n",
        "    num = num//10\n",
        "\n",
        "  if org_num == rev:\n",
        "    return \"Palindrome\"\n",
        "\n",
        "  return \"Not Palindrome\"\n",
        "\n",
        "num = 121\n",
        "print(isPalNum(num))\n"
      ],
      "metadata": {
        "colab": {
          "base_uri": "https://localhost:8080/"
        },
        "id": "s_zfjgZxSYFI",
        "outputId": "749a9d16-5df7-4b9c-9ba7-826fce4100b5"
      },
      "execution_count": 19,
      "outputs": [
        {
          "output_type": "stream",
          "name": "stdout",
          "text": [
            "Palindrome\n"
          ]
        }
      ]
    },
    {
      "cell_type": "code",
      "source": [
        "# Revrse a list\n",
        "\n",
        "def reverseList(lst):\n",
        "  start = 0\n",
        "  end = len(lst) - 1\n",
        "\n",
        "  while start <= end:\n",
        "    lst[start],lst[end] = lst[end],lst[start]\n",
        "    start+=1\n",
        "    end-=1\n",
        "\n",
        "  return lst\n",
        "\n",
        "my_lst = [1,2,3,4,5,6]\n",
        "print(reverseList(my_lst))"
      ],
      "metadata": {
        "colab": {
          "base_uri": "https://localhost:8080/"
        },
        "id": "GmQ2MYZcTfF3",
        "outputId": "e16bd62f-eed6-4dd0-b418-1f6f3e4701ec"
      },
      "execution_count": 24,
      "outputs": [
        {
          "output_type": "stream",
          "name": "stdout",
          "text": [
            "[6, 5, 4, 3, 2, 1]\n"
          ]
        }
      ]
    },
    {
      "cell_type": "code",
      "source": [
        "def isLeap(year):\n",
        "  if year % 4 == 0:\n",
        "    if year % 100 == 0:\n",
        "      if year % 400 == 0:\n",
        "        return \"Leap Year\"\n",
        "      else:\n",
        "        return \"Not Leap Year\"\n",
        "    else:\n",
        "      return \"Leap Year\"\n",
        "\n",
        "  else:\n",
        "    return \"Not Leap Year\"\n",
        "\n",
        "year = 2023\n",
        "print(isLeap(year))\n",
        "\n"
      ],
      "metadata": {
        "colab": {
          "base_uri": "https://localhost:8080/"
        },
        "id": "wMEIpb-gVTct",
        "outputId": "7fc909c2-efd6-43a6-f8c1-e8f6e28c8b6a"
      },
      "execution_count": 34,
      "outputs": [
        {
          "output_type": "stream",
          "name": "stdout",
          "text": [
            "Not Leap Year\n"
          ]
        }
      ]
    },
    {
      "cell_type": "code",
      "source": [
        "def tryExcept(a,b):\n",
        "  try:\n",
        "    res=a//b\n",
        "    return res\n",
        "  except Exception as e:\n",
        "    return e\n",
        "\n",
        "  finally:\n",
        "    print(\"Done\")\n",
        "\n",
        "a=int(input(\"enter num1:\"))\n",
        "b=int(input(\"enter num2:\"))\n",
        "\n",
        "print(tryExcept(a,b))"
      ],
      "metadata": {
        "colab": {
          "base_uri": "https://localhost:8080/"
        },
        "id": "Efx0vbaiY-mb",
        "outputId": "858b83e0-cde9-4028-efc8-01b6ebeb32f2"
      },
      "execution_count": 50,
      "outputs": [
        {
          "output_type": "stream",
          "name": "stdout",
          "text": [
            "enter num1:4\n",
            "enter num2:0\n",
            "Done\n",
            "integer division or modulo by zero\n"
          ]
        }
      ]
    },
    {
      "cell_type": "code",
      "source": [
        "class Person:\n",
        "    def __init__(self, name,age):\n",
        "        self.name = name\n",
        "        self.age= age\n",
        "\n",
        "    def greett(self):\n",
        "        return f\"Hello, {self.name}, I see you are {self.age} years\"\n",
        "\n",
        "p = Person(\"H\",21)\n",
        "print(p.greett())"
      ],
      "metadata": {
        "colab": {
          "base_uri": "https://localhost:8080/"
        },
        "id": "CSrLlePsZ74U",
        "outputId": "866730a1-d570-47a2-8ffc-d23d9a63baa7"
      },
      "execution_count": 54,
      "outputs": [
        {
          "output_type": "stream",
          "name": "stdout",
          "text": [
            "Hello, H, I see you are 21 years\n"
          ]
        }
      ]
    },
    {
      "cell_type": "code",
      "source": [
        "class Car:\n",
        "  def __init__(self,brand,model):\n",
        "    self.brand=brand\n",
        "    self.model=model\n",
        "\n",
        "  def myCar(self):\n",
        "    return f\"Oh!, your car is {self.brand} {self.model}\"\n",
        "\n",
        "c = Car(\"Toyota\",\"Camry\")\n",
        "print(c.myCar())"
      ],
      "metadata": {
        "colab": {
          "base_uri": "https://localhost:8080/"
        },
        "id": "Y3x-DTH4cmHT",
        "outputId": "ca70d07b-5711-4b5e-c4a3-2ab755b34920"
      },
      "execution_count": 57,
      "outputs": [
        {
          "output_type": "stream",
          "name": "stdout",
          "text": [
            "Oh!, your car is Toyota Camry\n"
          ]
        }
      ]
    },
    {
      "cell_type": "code",
      "source": [
        "import math\n",
        "print(int(math.sqrt(16)))\n",
        "\n",
        "import random\n",
        "print(random.randint(1, 10))\n"
      ],
      "metadata": {
        "colab": {
          "base_uri": "https://localhost:8080/"
        },
        "id": "O5IJF2lvdkhB",
        "outputId": "994bb40b-d3dd-466c-aa58-c27720f79528"
      },
      "execution_count": 60,
      "outputs": [
        {
          "output_type": "stream",
          "name": "stdout",
          "text": [
            "4\n",
            "5\n"
          ]
        }
      ]
    },
    {
      "cell_type": "code",
      "source": [
        "# Guess a Number game\n",
        "import random\n",
        "\n",
        "play=True\n",
        "while play:\n",
        "  num=int(input(\"Choose a number between 1-10:\"))\n",
        "  system_num=random.randint(1,10)\n",
        "\n",
        "  if num == system_num:\n",
        "    print(\"You Won\")\n",
        "\n",
        "  else:\n",
        "    print(f\"Sorry, Bad Luck, the number was {system_num}\")\n",
        "\n",
        "  play=input(\"Do you want to try again:(Yes/No)\")\n",
        "\n",
        "  if play.lower() == \"yes\":\n",
        "    play=True\n",
        "\n",
        "  else:\n",
        "    play=False\n",
        "\n",
        "\n"
      ],
      "metadata": {
        "colab": {
          "base_uri": "https://localhost:8080/"
        },
        "id": "37mKywpjduhf",
        "outputId": "e4b69dae-7911-4c42-d2ab-4f8ce5396366"
      },
      "execution_count": 61,
      "outputs": [
        {
          "name": "stdout",
          "output_type": "stream",
          "text": [
            "Choose a number between 1-10:3\n",
            "Sorry, Bad Luck, the number was 1\n",
            "Do you want to try again:(Yes/No)yes\n",
            "Choose a number between 1-10:1\n",
            "Sorry, Bad Luck, the number was 10\n",
            "Do you want to try again:(Yes/No)yes\n",
            "Choose a number between 1-10:5\n",
            "Sorry, Bad Luck, the number was 9\n",
            "Do you want to try again:(Yes/No)yes\n",
            "Choose a number between 1-10:6\n",
            "Sorry, Bad Luck, the number was 1\n",
            "Do you want to try again:(Yes/No)yes\n",
            "Choose a number between 1-10:8\n",
            "Sorry, Bad Luck, the number was 6\n",
            "Do you want to try again:(Yes/No)yes\n",
            "Choose a number between 1-10:10\n",
            "Sorry, Bad Luck, the number was 8\n",
            "Do you want to try again:(Yes/No)yes\n",
            "Choose a number between 1-10:6\n",
            "Sorry, Bad Luck, the number was 3\n",
            "Do you want to try again:(Yes/No)no\n"
          ]
        }
      ]
    }
  ]
}